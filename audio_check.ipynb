{
 "cells": [
  {
   "cell_type": "code",
   "execution_count": 1,
   "metadata": {},
   "outputs": [],
   "source": [
    "from gtts import gTTS\n",
    "import os\n",
    "\n",
    "def speak_word(word):\n",
    "    # Language in which you want to convert\n",
    "    language = 'en'\n",
    "\n",
    "    # Passing the text and language to the engine\n",
    "    tts = gTTS(text=word, lang=language, slow=False)\n",
    "\n",
    "    # Saving the converted audio in a file\n",
    "    tts.save(\"output.mp3\")\n",
    "\n",
    "    # Playing the converted file\n",
    "    os.system(\"start output.mp3\")\n",
    "\n",
    "\n"
   ]
  },
  {
   "cell_type": "code",
   "execution_count": 3,
   "metadata": {},
   "outputs": [],
   "source": [
    "# Example usage\n",
    "word_to_speak = input(\"Enter the word to speak: \")\n",
    "speak_word(word_to_speak)"
   ]
  },
  {
   "cell_type": "code",
   "execution_count": null,
   "metadata": {},
   "outputs": [],
   "source": []
  }
 ],
 "metadata": {
  "kernelspec": {
   "display_name": "base",
   "language": "python",
   "name": "python3"
  },
  "language_info": {
   "codemirror_mode": {
    "name": "ipython",
    "version": 3
   },
   "file_extension": ".py",
   "mimetype": "text/x-python",
   "name": "python",
   "nbconvert_exporter": "python",
   "pygments_lexer": "ipython3",
   "version": "3.11.4"
  }
 },
 "nbformat": 4,
 "nbformat_minor": 2
}
